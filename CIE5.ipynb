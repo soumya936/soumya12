{
  "nbformat": 4,
  "nbformat_minor": 0,
  "metadata": {
    "colab": {
      "provenance": []
    },
    "kernelspec": {
      "name": "python3",
      "display_name": "Python 3"
    },
    "language_info": {
      "name": "python"
    }
  },
  "cells": [
    {
      "cell_type": "code",
      "execution_count": 5,
      "metadata": {
        "colab": {
          "base_uri": "https://localhost:8080/"
        },
        "id": "N5RqKKhzdd_i",
        "outputId": "f1e81607-0bd2-4e39-f8f9-09197e84b098"
      },
      "outputs": [
        {
          "output_type": "stream",
          "name": "stdout",
          "text": [
            "[(AI, is), (is, simulation), (simulation, of), (of, human), (human, intelligence), (intelligence, by), (by, machine.it), (machine.it, includes), (includes, expects), (expects, system), (system, NLP), (NLP, speech), (speech, recognition), (recognition, and), (and, machin), (machin, vision)]\n"
          ]
        }
      ],
      "source": [
        "import spacy\n",
        "from nltk import ngrams\n",
        "nlp=spacy.load(\"en_core_web_sm\")\n",
        "doc=nlp(\"AI is simulation of human intelligence by machine.it includes expects system NLP speech recognition and machin vision\")\n",
        "bigrams=ngrams(doc, 2)\n",
        "print(list(bigrams))"
      ]
    },
    {
      "cell_type": "code",
      "source": [
        "import spacy\n",
        "from nltk import ngrams\n",
        "nlp=spacy.load(\"en_core_web_sm\")\n",
        "doc=nlp(\"AI is simulation of human intelligence by machine.it includes expects system NLP speech recognition and machin vision\")\n",
        "trigrams=ngrams(doc, 3)\n",
        "print(list(trigrams))"
      ],
      "metadata": {
        "colab": {
          "base_uri": "https://localhost:8080/"
        },
        "id": "BHuQBPWnfqY-",
        "outputId": "a71ef4bb-5088-4849-ed08-bc8a6bea1092"
      },
      "execution_count": 6,
      "outputs": [
        {
          "output_type": "stream",
          "name": "stdout",
          "text": [
            "[(AI, is, simulation), (is, simulation, of), (simulation, of, human), (of, human, intelligence), (human, intelligence, by), (intelligence, by, machine.it), (by, machine.it, includes), (machine.it, includes, expects), (includes, expects, system), (expects, system, NLP), (system, NLP, speech), (NLP, speech, recognition), (speech, recognition, and), (recognition, and, machin), (and, machin, vision)]\n"
          ]
        }
      ]
    }
  ]
}